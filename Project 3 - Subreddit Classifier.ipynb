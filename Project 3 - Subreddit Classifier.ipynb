{
 "cells": [
  {
   "cell_type": "markdown",
   "id": "293e3c6d",
   "metadata": {},
   "source": [
    "# Project 3 - Reddit Classification Problem"
   ]
  },
  {
   "cell_type": "markdown",
   "id": "1bf0bd3f",
   "metadata": {},
   "source": [
    "## Problem Statement\n",
    "_____________________________________________________\n",
    "\n",
    "The app 'Seedly' is known to help users make smarter financial decisions with its expense tracking app, they have planned to further expand the community to include legal expertise/advice to help individuals with legal woes.\n",
    "\n",
    "Their aim is to curate articles about legal matters and finance by using reddit to classify posts that are posted in subreddit personal finance and legal advice.\n",
    "\n",
    "This is will give them a sense of what people are generally asking or posting about to create articles based on general population."
   ]
  },
  {
   "cell_type": "markdown",
   "id": "0ec75a71",
   "metadata": {},
   "source": [
    "## Executive Summary\n",
    "_________________________________________________\n",
    "1. [Data Scraping](#Chapter1) \n",
    "- Sources derived from Reddit Pushift API based scraping from 2 subreddits, both need to hit a minimum of 5000 posts and each post to contained 20 words and more.\n",
    "Posts with empty contents and emojis to be discared.\n",
    "Subreddits chosen was r/personalfinance and r/legaladvice\n",
    "\n",
    "\n",
    "2. [EDA](#Chapter2) \n",
    "- Appending title and selftext into 1 column and dropping duplicates and posts that have less than 20 words.\n",
    "After appending the columns, the subreddit column consists of NaN values this was then filled in.\n",
    "After cleaning up the following, the 2 dataframes then was merged to create a single dataframe for the next steps.\n",
    "\n",
    "3. [Pre-Processing & Modelling](#Chapter3)\n",
    "- Countvectorizer with stopwords hyperparameter was used to convert text data into a structured numeric df. \n",
    "TfidrVectorizer was also used to compared against the countvectorizer to see if there's a difference. \n",
    "\n",
    "4. [Evaluation](#Chapter4)\n",
    "- We evaluate the metrics of the chosen model which is the MultiNomial Naive Bayes that we have chosen by creating a matrix table to compare and make comparisons of the different metrics.\n",
    "\n",
    "5. [Conclusion](#Chapter5)\n",
    "- To conclude the findings from the model, and to introduce ways to improve future models based on our analysis thus far."
   ]
  },
  {
   "cell_type": "markdown",
   "id": "f86d8d71",
   "metadata": {},
   "source": [
    "## 1. Data Scraping <a class=\"anchor\" id=\"Chapter1\"></a>\n",
    "_____________________________________________________________"
   ]
  },
  {
   "cell_type": "code",
   "execution_count": 301,
   "id": "98b6b43f",
   "metadata": {},
   "outputs": [],
   "source": [
    "import time\n",
    "import pandas as pd\n",
    "import requests\n",
    "import numpy as np\n",
    "import matplotlib.pyplot as plt\n",
    "import seaborn as sns\n",
    "from sklearn.model_selection import train_test_split, GridSearchCV, cross_val_score\n",
    "from sklearn.pipeline import Pipeline, make_pipeline\n",
    "from sklearn.naive_bayes import MultinomialNB\n",
    "from sklearn.metrics import confusion_matrix, plot_confusion_matrix\n",
    "from sklearn.linear_model import LogisticRegression\n",
    "from sklearn.feature_extraction.text import TfidfTransformer\n",
    "from sklearn.ensemble import RandomForestClassifier, ExtraTreesClassifier\n",
    "\n",
    "\n",
    "\n",
    "from sklearn.feature_extraction.text import CountVectorizer, TfidfVectorizer"
   ]
  },
  {
   "cell_type": "code",
   "execution_count": 84,
   "id": "09badedb",
   "metadata": {},
   "outputs": [],
   "source": [
    "\"\"\"\"\n",
    "def get_posts(subreddit, number=5000):\n",
    "    url = 'https://api.pushshift.io/reddit/search/submission'\n",
    "    params = {\n",
    "        'subreddit': subreddit,\n",
    "        'size': 100\n",
    "        \n",
    "    } # 'before' is added later in the while loop\n",
    "    df = pd.DataFrame() # empty dataframe for concatenating\n",
    "    returned = pd.DataFrame()\n",
    "    while True: # Need a break out of this\n",
    "        time.sleep(3)\n",
    "        \n",
    "        res = requests.get(url, params)\n",
    "        data = res.json()\n",
    "        posts = data['data']\n",
    "        df = pd.DataFrame(posts)\n",
    "        params['before'] = df.iloc[-1:,:]['created_utc']\n",
    "        returned = pd.concat([returned, df[['subreddit','selftext','title']]], axis=0)\n",
    "        returned.drop_duplicates(inplace=True)\n",
    "        \n",
    "        if len(returned) > number:\n",
    "            break\n",
    "            \n",
    "    returned.reset_index(inplace=True,drop=True)\n",
    "    return returned[:number]\n",
    "\"\"\"\""
   ]
  },
  {
   "cell_type": "markdown",
   "id": "ae734247",
   "metadata": {},
   "source": [
    "### r/PersonalFinance"
   ]
  },
  {
   "cell_type": "code",
   "execution_count": null,
   "id": "4b5124f0",
   "metadata": {},
   "outputs": [],
   "source": [
    "pf_df = get_posts('personalfinance', 7000) "
   ]
  },
  {
   "cell_type": "code",
   "execution_count": null,
   "id": "2f431609",
   "metadata": {},
   "outputs": [],
   "source": [
    "pf_df"
   ]
  },
  {
   "cell_type": "code",
   "execution_count": null,
   "id": "ea5cd24c",
   "metadata": {},
   "outputs": [],
   "source": [
    "pf_df.isnull().sum()"
   ]
  },
  {
   "cell_type": "code",
   "execution_count": null,
   "id": "b8130120",
   "metadata": {},
   "outputs": [],
   "source": [
    "pf_df[pf_df.selftext.isnull()]"
   ]
  },
  {
   "cell_type": "code",
   "execution_count": null,
   "id": "d7c86566",
   "metadata": {},
   "outputs": [],
   "source": [
    "pf_df = pf_df[['subreddit','selftext']].append(pf_df[['title']].set_axis(['selftext'], axis=1)).reset_index(drop=True)"
   ]
  },
  {
   "cell_type": "code",
   "execution_count": null,
   "id": "91f30da2",
   "metadata": {},
   "outputs": [],
   "source": [
    "pf_df.to_csv('personalfinance.csv', index=False)"
   ]
  },
  {
   "cell_type": "code",
   "execution_count": null,
   "id": "b53ccff2",
   "metadata": {},
   "outputs": [],
   "source": [
    "pf_df"
   ]
  },
  {
   "cell_type": "markdown",
   "id": "1462c6c2",
   "metadata": {},
   "source": [
    "### r/LegalAdvice"
   ]
  },
  {
   "cell_type": "code",
   "execution_count": null,
   "id": "82dc41cb",
   "metadata": {},
   "outputs": [],
   "source": [
    "la_df = get_posts('legaladvice', 7000)"
   ]
  },
  {
   "cell_type": "code",
   "execution_count": null,
   "id": "1927aba0",
   "metadata": {},
   "outputs": [],
   "source": [
    "la_df"
   ]
  },
  {
   "cell_type": "code",
   "execution_count": null,
   "id": "3b549199",
   "metadata": {},
   "outputs": [],
   "source": [
    "la_df = la_df[['subreddit','selftext']].append(la_df[['title']].set_axis(['selftext'], axis=1)).reset_index(drop=True)"
   ]
  },
  {
   "cell_type": "code",
   "execution_count": null,
   "id": "4a20933c",
   "metadata": {},
   "outputs": [],
   "source": [
    "la_df.isnull().sum()"
   ]
  },
  {
   "cell_type": "code",
   "execution_count": null,
   "id": "86dcb8ae",
   "metadata": {},
   "outputs": [],
   "source": [
    "la_df[la_df.selftext.isnull()]"
   ]
  },
  {
   "cell_type": "code",
   "execution_count": null,
   "id": "26ce4024",
   "metadata": {},
   "outputs": [],
   "source": [
    "la_df"
   ]
  },
  {
   "cell_type": "code",
   "execution_count": null,
   "id": "baff6fec",
   "metadata": {},
   "outputs": [],
   "source": [
    "la_df.to_csv('legaladvice.csv', index=False)"
   ]
  },
  {
   "cell_type": "markdown",
   "id": "65a22b1d",
   "metadata": {},
   "source": [
    "## 2. EDA <a class=\"anchor\" id=\"Chapter2\"></a>\n",
    "_________________________________________________________"
   ]
  },
  {
   "cell_type": "code",
   "execution_count": 255,
   "id": "43f6c2d5",
   "metadata": {},
   "outputs": [],
   "source": [
    "personalfinance = pd.read_csv('personalfinance.csv')"
   ]
  },
  {
   "cell_type": "code",
   "execution_count": 256,
   "id": "c8005cec",
   "metadata": {},
   "outputs": [
    {
     "data": {
      "text/html": [
       "<div>\n",
       "<style scoped>\n",
       "    .dataframe tbody tr th:only-of-type {\n",
       "        vertical-align: middle;\n",
       "    }\n",
       "\n",
       "    .dataframe tbody tr th {\n",
       "        vertical-align: top;\n",
       "    }\n",
       "\n",
       "    .dataframe thead th {\n",
       "        text-align: right;\n",
       "    }\n",
       "</style>\n",
       "<table border=\"1\" class=\"dataframe\">\n",
       "  <thead>\n",
       "    <tr style=\"text-align: right;\">\n",
       "      <th></th>\n",
       "      <th>subreddit</th>\n",
       "      <th>selftext</th>\n",
       "    </tr>\n",
       "  </thead>\n",
       "  <tbody>\n",
       "    <tr>\n",
       "      <th>0</th>\n",
       "      <td>personalfinance</td>\n",
       "      <td>I have a handful of various collections, and n...</td>\n",
       "    </tr>\n",
       "    <tr>\n",
       "      <th>1</th>\n",
       "      <td>personalfinance</td>\n",
       "      <td>By all in one, I mean a bank that offers a dec...</td>\n",
       "    </tr>\n",
       "    <tr>\n",
       "      <th>2</th>\n",
       "      <td>personalfinance</td>\n",
       "      <td>[removed]</td>\n",
       "    </tr>\n",
       "    <tr>\n",
       "      <th>3</th>\n",
       "      <td>personalfinance</td>\n",
       "      <td>My goal this year was to open a Roth IRA, I've...</td>\n",
       "    </tr>\n",
       "    <tr>\n",
       "      <th>4</th>\n",
       "      <td>personalfinance</td>\n",
       "      <td>I keep seeing great rates on CDs but should I ...</td>\n",
       "    </tr>\n",
       "  </tbody>\n",
       "</table>\n",
       "</div>"
      ],
      "text/plain": [
       "         subreddit                                           selftext\n",
       "0  personalfinance  I have a handful of various collections, and n...\n",
       "1  personalfinance  By all in one, I mean a bank that offers a dec...\n",
       "2  personalfinance                                          [removed]\n",
       "3  personalfinance  My goal this year was to open a Roth IRA, I've...\n",
       "4  personalfinance  I keep seeing great rates on CDs but should I ..."
      ]
     },
     "execution_count": 256,
     "metadata": {},
     "output_type": "execute_result"
    }
   ],
   "source": [
    "personalfinance.head()"
   ]
  },
  {
   "cell_type": "code",
   "execution_count": 257,
   "id": "8de30ea2",
   "metadata": {},
   "outputs": [
    {
     "data": {
      "text/plain": [
       "(14000, 2)"
      ]
     },
     "execution_count": 257,
     "metadata": {},
     "output_type": "execute_result"
    }
   ],
   "source": [
    "personalfinance.shape"
   ]
  },
  {
   "cell_type": "code",
   "execution_count": 258,
   "id": "4eab355b",
   "metadata": {},
   "outputs": [],
   "source": [
    "personalfinance.drop_duplicates(subset='selftext', inplace=True)"
   ]
  },
  {
   "cell_type": "code",
   "execution_count": 259,
   "id": "f2003bee",
   "metadata": {},
   "outputs": [
    {
     "data": {
      "text/plain": [
       "subreddit    6968\n",
       "selftext        1\n",
       "dtype: int64"
      ]
     },
     "execution_count": 259,
     "metadata": {},
     "output_type": "execute_result"
    }
   ],
   "source": [
    "personalfinance.isnull().sum()"
   ]
  },
  {
   "cell_type": "code",
   "execution_count": 260,
   "id": "2633c8d7",
   "metadata": {},
   "outputs": [],
   "source": [
    "personalfinance.subreddit.fillna(value='personalfinance', inplace=True)"
   ]
  },
  {
   "cell_type": "code",
   "execution_count": 261,
   "id": "d4d7a96f",
   "metadata": {},
   "outputs": [
    {
     "data": {
      "text/plain": [
       "subreddit    0\n",
       "selftext     1\n",
       "dtype: int64"
      ]
     },
     "execution_count": 261,
     "metadata": {},
     "output_type": "execute_result"
    }
   ],
   "source": [
    "personalfinance.isnull().sum()"
   ]
  },
  {
   "cell_type": "code",
   "execution_count": 262,
   "id": "cd23b4d9",
   "metadata": {},
   "outputs": [
    {
     "name": "stdout",
     "output_type": "stream",
     "text": [
      "             subreddit                                           selftext\n",
      "0      personalfinance  I have a handful of various collections, and n...\n",
      "1      personalfinance  By all in one, I mean a bank that offers a dec...\n",
      "3      personalfinance  My goal this year was to open a Roth IRA, I've...\n",
      "4      personalfinance  I keep seeing great rates on CDs but should I ...\n",
      "5      personalfinance  So I'm stressing out because they closed the a...\n",
      "...                ...                                                ...\n",
      "13938  personalfinance  I have most of my money in a chime account. I ...\n",
      "13951  personalfinance  I have a call with my Mom's financial advisor ...\n",
      "13956  personalfinance  Hello, I have a question regarding 3 missed pa...\n",
      "13979  personalfinance  [UK] 0% Credit card for balance transfer, half...\n",
      "13983  personalfinance  I just tried calling my insurance company, and...\n",
      "\n",
      "[5963 rows x 2 columns]\n"
     ]
    }
   ],
   "source": [
    "personalfinance = personalfinance[personalfinance['selftext'].str.split().str.len().gt(20)]\n",
    "print(personalfinance)"
   ]
  },
  {
   "cell_type": "code",
   "execution_count": 263,
   "id": "d534a87f",
   "metadata": {},
   "outputs": [
    {
     "data": {
      "text/html": [
       "<div>\n",
       "<style scoped>\n",
       "    .dataframe tbody tr th:only-of-type {\n",
       "        vertical-align: middle;\n",
       "    }\n",
       "\n",
       "    .dataframe tbody tr th {\n",
       "        vertical-align: top;\n",
       "    }\n",
       "\n",
       "    .dataframe thead th {\n",
       "        text-align: right;\n",
       "    }\n",
       "</style>\n",
       "<table border=\"1\" class=\"dataframe\">\n",
       "  <thead>\n",
       "    <tr style=\"text-align: right;\">\n",
       "      <th></th>\n",
       "      <th>subreddit</th>\n",
       "      <th>selftext</th>\n",
       "    </tr>\n",
       "  </thead>\n",
       "  <tbody>\n",
       "    <tr>\n",
       "      <th>0</th>\n",
       "      <td>personalfinance</td>\n",
       "      <td>I have a handful of various collections, and n...</td>\n",
       "    </tr>\n",
       "    <tr>\n",
       "      <th>1</th>\n",
       "      <td>personalfinance</td>\n",
       "      <td>By all in one, I mean a bank that offers a dec...</td>\n",
       "    </tr>\n",
       "    <tr>\n",
       "      <th>3</th>\n",
       "      <td>personalfinance</td>\n",
       "      <td>My goal this year was to open a Roth IRA, I've...</td>\n",
       "    </tr>\n",
       "    <tr>\n",
       "      <th>4</th>\n",
       "      <td>personalfinance</td>\n",
       "      <td>I keep seeing great rates on CDs but should I ...</td>\n",
       "    </tr>\n",
       "    <tr>\n",
       "      <th>5</th>\n",
       "      <td>personalfinance</td>\n",
       "      <td>So I'm stressing out because they closed the a...</td>\n",
       "    </tr>\n",
       "    <tr>\n",
       "      <th>...</th>\n",
       "      <td>...</td>\n",
       "      <td>...</td>\n",
       "    </tr>\n",
       "    <tr>\n",
       "      <th>13938</th>\n",
       "      <td>personalfinance</td>\n",
       "      <td>I have most of my money in a chime account. I ...</td>\n",
       "    </tr>\n",
       "    <tr>\n",
       "      <th>13951</th>\n",
       "      <td>personalfinance</td>\n",
       "      <td>I have a call with my Mom's financial advisor ...</td>\n",
       "    </tr>\n",
       "    <tr>\n",
       "      <th>13956</th>\n",
       "      <td>personalfinance</td>\n",
       "      <td>Hello, I have a question regarding 3 missed pa...</td>\n",
       "    </tr>\n",
       "    <tr>\n",
       "      <th>13979</th>\n",
       "      <td>personalfinance</td>\n",
       "      <td>[UK] 0% Credit card for balance transfer, half...</td>\n",
       "    </tr>\n",
       "    <tr>\n",
       "      <th>13983</th>\n",
       "      <td>personalfinance</td>\n",
       "      <td>I just tried calling my insurance company, and...</td>\n",
       "    </tr>\n",
       "  </tbody>\n",
       "</table>\n",
       "<p>5963 rows × 2 columns</p>\n",
       "</div>"
      ],
      "text/plain": [
       "             subreddit                                           selftext\n",
       "0      personalfinance  I have a handful of various collections, and n...\n",
       "1      personalfinance  By all in one, I mean a bank that offers a dec...\n",
       "3      personalfinance  My goal this year was to open a Roth IRA, I've...\n",
       "4      personalfinance  I keep seeing great rates on CDs but should I ...\n",
       "5      personalfinance  So I'm stressing out because they closed the a...\n",
       "...                ...                                                ...\n",
       "13938  personalfinance  I have most of my money in a chime account. I ...\n",
       "13951  personalfinance  I have a call with my Mom's financial advisor ...\n",
       "13956  personalfinance  Hello, I have a question regarding 3 missed pa...\n",
       "13979  personalfinance  [UK] 0% Credit card for balance transfer, half...\n",
       "13983  personalfinance  I just tried calling my insurance company, and...\n",
       "\n",
       "[5963 rows x 2 columns]"
      ]
     },
     "execution_count": 263,
     "metadata": {},
     "output_type": "execute_result"
    }
   ],
   "source": [
    "personalfinance"
   ]
  },
  {
   "cell_type": "markdown",
   "id": "3a19eb91",
   "metadata": {},
   "source": [
    "____________________________________________________"
   ]
  },
  {
   "cell_type": "code",
   "execution_count": 264,
   "id": "178acb7d",
   "metadata": {},
   "outputs": [],
   "source": [
    "legaladvice = pd.read_csv('legaladvice.csv')"
   ]
  },
  {
   "cell_type": "code",
   "execution_count": 265,
   "id": "87473c82",
   "metadata": {},
   "outputs": [
    {
     "data": {
      "text/html": [
       "<div>\n",
       "<style scoped>\n",
       "    .dataframe tbody tr th:only-of-type {\n",
       "        vertical-align: middle;\n",
       "    }\n",
       "\n",
       "    .dataframe tbody tr th {\n",
       "        vertical-align: top;\n",
       "    }\n",
       "\n",
       "    .dataframe thead th {\n",
       "        text-align: right;\n",
       "    }\n",
       "</style>\n",
       "<table border=\"1\" class=\"dataframe\">\n",
       "  <thead>\n",
       "    <tr style=\"text-align: right;\">\n",
       "      <th></th>\n",
       "      <th>subreddit</th>\n",
       "      <th>selftext</th>\n",
       "    </tr>\n",
       "  </thead>\n",
       "  <tbody>\n",
       "    <tr>\n",
       "      <th>0</th>\n",
       "      <td>legaladvice</td>\n",
       "      <td>I bought a house with my boyfriend about a yea...</td>\n",
       "    </tr>\n",
       "    <tr>\n",
       "      <th>1</th>\n",
       "      <td>legaladvice</td>\n",
       "      <td>Hi all,\\nMy 6 y/o daughter broke her left arm ...</td>\n",
       "    </tr>\n",
       "    <tr>\n",
       "      <th>2</th>\n",
       "      <td>legaladvice</td>\n",
       "      <td>Third time changing jobs during FL permanent a...</td>\n",
       "    </tr>\n",
       "    <tr>\n",
       "      <th>3</th>\n",
       "      <td>legaladvice</td>\n",
       "      <td>If a county changes an ordinance, after you ha...</td>\n",
       "    </tr>\n",
       "    <tr>\n",
       "      <th>4</th>\n",
       "      <td>legaladvice</td>\n",
       "      <td>Working as travel nurse and they offered an as...</td>\n",
       "    </tr>\n",
       "  </tbody>\n",
       "</table>\n",
       "</div>"
      ],
      "text/plain": [
       "     subreddit                                           selftext\n",
       "0  legaladvice  I bought a house with my boyfriend about a yea...\n",
       "1  legaladvice  Hi all,\\nMy 6 y/o daughter broke her left arm ...\n",
       "2  legaladvice  Third time changing jobs during FL permanent a...\n",
       "3  legaladvice  If a county changes an ordinance, after you ha...\n",
       "4  legaladvice  Working as travel nurse and they offered an as..."
      ]
     },
     "execution_count": 265,
     "metadata": {},
     "output_type": "execute_result"
    }
   ],
   "source": [
    "legaladvice.head()"
   ]
  },
  {
   "cell_type": "code",
   "execution_count": 266,
   "id": "a0025814",
   "metadata": {},
   "outputs": [
    {
     "data": {
      "text/plain": [
       "(14000, 2)"
      ]
     },
     "execution_count": 266,
     "metadata": {},
     "output_type": "execute_result"
    }
   ],
   "source": [
    "legaladvice.shape"
   ]
  },
  {
   "cell_type": "code",
   "execution_count": 267,
   "id": "1112900d",
   "metadata": {},
   "outputs": [],
   "source": [
    "legaladvice.drop_duplicates(subset='selftext', inplace=True)"
   ]
  },
  {
   "cell_type": "code",
   "execution_count": 268,
   "id": "f22b7b33",
   "metadata": {},
   "outputs": [],
   "source": [
    "legaladvice.subreddit.fillna(value='LegalAdvice', inplace=True)"
   ]
  },
  {
   "cell_type": "code",
   "execution_count": 269,
   "id": "53dfce2a",
   "metadata": {},
   "outputs": [
    {
     "data": {
      "text/plain": [
       "subreddit    0\n",
       "selftext     0\n",
       "dtype: int64"
      ]
     },
     "execution_count": 269,
     "metadata": {},
     "output_type": "execute_result"
    }
   ],
   "source": [
    "legaladvice.isnull().sum()"
   ]
  },
  {
   "cell_type": "code",
   "execution_count": 270,
   "id": "6cc55221",
   "metadata": {},
   "outputs": [
    {
     "name": "stdout",
     "output_type": "stream",
     "text": [
      "         subreddit                                           selftext\n",
      "0      legaladvice  I bought a house with my boyfriend about a yea...\n",
      "1      legaladvice  Hi all,\\nMy 6 y/o daughter broke her left arm ...\n",
      "2      legaladvice  Third time changing jobs during FL permanent a...\n",
      "3      legaladvice  If a county changes an ordinance, after you ha...\n",
      "4      legaladvice  Working as travel nurse and they offered an as...\n",
      "...            ...                                                ...\n",
      "13985  LegalAdvice  My (23F) mother (40sF) somehow got access of m...\n",
      "13986  LegalAdvice  If a debt I have in Oklahoma goes to a collect...\n",
      "13988  LegalAdvice  If I help a lesbian couple have a child, is th...\n",
      "13990  LegalAdvice  Who is legally entitled to ownership of a pet?...\n",
      "13992  LegalAdvice  Company I worked for went public, used 3rd par...\n",
      "\n",
      "[7366 rows x 2 columns]\n"
     ]
    }
   ],
   "source": [
    "legaladvice = legaladvice[legaladvice['selftext'].str.split().str.len().gt(20)]\n",
    "print(legaladvice) "
   ]
  },
  {
   "cell_type": "code",
   "execution_count": 271,
   "id": "40f41197",
   "metadata": {},
   "outputs": [],
   "source": [
    "legaladvice = legaladvice.drop(legaladvice.index[5964:7366])"
   ]
  },
  {
   "cell_type": "code",
   "execution_count": 272,
   "id": "3c3da4b2",
   "metadata": {},
   "outputs": [
    {
     "data": {
      "text/html": [
       "<div>\n",
       "<style scoped>\n",
       "    .dataframe tbody tr th:only-of-type {\n",
       "        vertical-align: middle;\n",
       "    }\n",
       "\n",
       "    .dataframe tbody tr th {\n",
       "        vertical-align: top;\n",
       "    }\n",
       "\n",
       "    .dataframe thead th {\n",
       "        text-align: right;\n",
       "    }\n",
       "</style>\n",
       "<table border=\"1\" class=\"dataframe\">\n",
       "  <thead>\n",
       "    <tr style=\"text-align: right;\">\n",
       "      <th></th>\n",
       "      <th>subreddit</th>\n",
       "      <th>selftext</th>\n",
       "    </tr>\n",
       "  </thead>\n",
       "  <tbody>\n",
       "    <tr>\n",
       "      <th>0</th>\n",
       "      <td>legaladvice</td>\n",
       "      <td>I bought a house with my boyfriend about a yea...</td>\n",
       "    </tr>\n",
       "    <tr>\n",
       "      <th>1</th>\n",
       "      <td>legaladvice</td>\n",
       "      <td>Hi all,\\nMy 6 y/o daughter broke her left arm ...</td>\n",
       "    </tr>\n",
       "    <tr>\n",
       "      <th>2</th>\n",
       "      <td>legaladvice</td>\n",
       "      <td>Third time changing jobs during FL permanent a...</td>\n",
       "    </tr>\n",
       "    <tr>\n",
       "      <th>3</th>\n",
       "      <td>legaladvice</td>\n",
       "      <td>If a county changes an ordinance, after you ha...</td>\n",
       "    </tr>\n",
       "    <tr>\n",
       "      <th>4</th>\n",
       "      <td>legaladvice</td>\n",
       "      <td>Working as travel nurse and they offered an as...</td>\n",
       "    </tr>\n",
       "    <tr>\n",
       "      <th>...</th>\n",
       "      <td>...</td>\n",
       "      <td>...</td>\n",
       "    </tr>\n",
       "    <tr>\n",
       "      <th>6280</th>\n",
       "      <td>legaladvice</td>\n",
       "      <td>So my sister (now 31) got married to her husba...</td>\n",
       "    </tr>\n",
       "    <tr>\n",
       "      <th>6281</th>\n",
       "      <td>legaladvice</td>\n",
       "      <td>Not sure if this is the right place since I'm ...</td>\n",
       "    </tr>\n",
       "    <tr>\n",
       "      <th>6282</th>\n",
       "      <td>legaladvice</td>\n",
       "      <td>My wife has cancer and the doctor told her to ...</td>\n",
       "    </tr>\n",
       "    <tr>\n",
       "      <th>6284</th>\n",
       "      <td>legaladvice</td>\n",
       "      <td>My Landlord's been pretty horrible throughout ...</td>\n",
       "    </tr>\n",
       "    <tr>\n",
       "      <th>6285</th>\n",
       "      <td>legaladvice</td>\n",
       "      <td>Apologies if text is messed up, I’m using mobi...</td>\n",
       "    </tr>\n",
       "  </tbody>\n",
       "</table>\n",
       "<p>5964 rows × 2 columns</p>\n",
       "</div>"
      ],
      "text/plain": [
       "        subreddit                                           selftext\n",
       "0     legaladvice  I bought a house with my boyfriend about a yea...\n",
       "1     legaladvice  Hi all,\\nMy 6 y/o daughter broke her left arm ...\n",
       "2     legaladvice  Third time changing jobs during FL permanent a...\n",
       "3     legaladvice  If a county changes an ordinance, after you ha...\n",
       "4     legaladvice  Working as travel nurse and they offered an as...\n",
       "...           ...                                                ...\n",
       "6280  legaladvice  So my sister (now 31) got married to her husba...\n",
       "6281  legaladvice  Not sure if this is the right place since I'm ...\n",
       "6282  legaladvice  My wife has cancer and the doctor told her to ...\n",
       "6284  legaladvice  My Landlord's been pretty horrible throughout ...\n",
       "6285  legaladvice  Apologies if text is messed up, I’m using mobi...\n",
       "\n",
       "[5964 rows x 2 columns]"
      ]
     },
     "execution_count": 272,
     "metadata": {},
     "output_type": "execute_result"
    }
   ],
   "source": [
    "legaladvice"
   ]
  },
  {
   "cell_type": "code",
   "execution_count": 273,
   "id": "313ccf9c",
   "metadata": {},
   "outputs": [],
   "source": [
    "df = pd.concat([personalfinance, legaladvice], axis=0)"
   ]
  },
  {
   "cell_type": "code",
   "execution_count": 274,
   "id": "5778ca0a",
   "metadata": {},
   "outputs": [],
   "source": [
    "df.to_csv('merged_df.csv', index=False)"
   ]
  },
  {
   "cell_type": "code",
   "execution_count": 275,
   "id": "c808f27d",
   "metadata": {},
   "outputs": [
    {
     "data": {
      "text/html": [
       "<div>\n",
       "<style scoped>\n",
       "    .dataframe tbody tr th:only-of-type {\n",
       "        vertical-align: middle;\n",
       "    }\n",
       "\n",
       "    .dataframe tbody tr th {\n",
       "        vertical-align: top;\n",
       "    }\n",
       "\n",
       "    .dataframe thead th {\n",
       "        text-align: right;\n",
       "    }\n",
       "</style>\n",
       "<table border=\"1\" class=\"dataframe\">\n",
       "  <thead>\n",
       "    <tr style=\"text-align: right;\">\n",
       "      <th></th>\n",
       "      <th>subreddit</th>\n",
       "      <th>selftext</th>\n",
       "    </tr>\n",
       "  </thead>\n",
       "  <tbody>\n",
       "    <tr>\n",
       "      <th>0</th>\n",
       "      <td>personalfinance</td>\n",
       "      <td>I have a handful of various collections, and n...</td>\n",
       "    </tr>\n",
       "    <tr>\n",
       "      <th>1</th>\n",
       "      <td>personalfinance</td>\n",
       "      <td>By all in one, I mean a bank that offers a dec...</td>\n",
       "    </tr>\n",
       "    <tr>\n",
       "      <th>3</th>\n",
       "      <td>personalfinance</td>\n",
       "      <td>My goal this year was to open a Roth IRA, I've...</td>\n",
       "    </tr>\n",
       "    <tr>\n",
       "      <th>4</th>\n",
       "      <td>personalfinance</td>\n",
       "      <td>I keep seeing great rates on CDs but should I ...</td>\n",
       "    </tr>\n",
       "    <tr>\n",
       "      <th>5</th>\n",
       "      <td>personalfinance</td>\n",
       "      <td>So I'm stressing out because they closed the a...</td>\n",
       "    </tr>\n",
       "    <tr>\n",
       "      <th>...</th>\n",
       "      <td>...</td>\n",
       "      <td>...</td>\n",
       "    </tr>\n",
       "    <tr>\n",
       "      <th>6280</th>\n",
       "      <td>legaladvice</td>\n",
       "      <td>So my sister (now 31) got married to her husba...</td>\n",
       "    </tr>\n",
       "    <tr>\n",
       "      <th>6281</th>\n",
       "      <td>legaladvice</td>\n",
       "      <td>Not sure if this is the right place since I'm ...</td>\n",
       "    </tr>\n",
       "    <tr>\n",
       "      <th>6282</th>\n",
       "      <td>legaladvice</td>\n",
       "      <td>My wife has cancer and the doctor told her to ...</td>\n",
       "    </tr>\n",
       "    <tr>\n",
       "      <th>6284</th>\n",
       "      <td>legaladvice</td>\n",
       "      <td>My Landlord's been pretty horrible throughout ...</td>\n",
       "    </tr>\n",
       "    <tr>\n",
       "      <th>6285</th>\n",
       "      <td>legaladvice</td>\n",
       "      <td>Apologies if text is messed up, I’m using mobi...</td>\n",
       "    </tr>\n",
       "  </tbody>\n",
       "</table>\n",
       "<p>11927 rows × 2 columns</p>\n",
       "</div>"
      ],
      "text/plain": [
       "            subreddit                                           selftext\n",
       "0     personalfinance  I have a handful of various collections, and n...\n",
       "1     personalfinance  By all in one, I mean a bank that offers a dec...\n",
       "3     personalfinance  My goal this year was to open a Roth IRA, I've...\n",
       "4     personalfinance  I keep seeing great rates on CDs but should I ...\n",
       "5     personalfinance  So I'm stressing out because they closed the a...\n",
       "...               ...                                                ...\n",
       "6280      legaladvice  So my sister (now 31) got married to her husba...\n",
       "6281      legaladvice  Not sure if this is the right place since I'm ...\n",
       "6282      legaladvice  My wife has cancer and the doctor told her to ...\n",
       "6284      legaladvice  My Landlord's been pretty horrible throughout ...\n",
       "6285      legaladvice  Apologies if text is messed up, I’m using mobi...\n",
       "\n",
       "[11927 rows x 2 columns]"
      ]
     },
     "execution_count": 275,
     "metadata": {},
     "output_type": "execute_result"
    }
   ],
   "source": [
    "df"
   ]
  },
  {
   "cell_type": "code",
   "execution_count": 276,
   "id": "f2793873",
   "metadata": {},
   "outputs": [
    {
     "data": {
      "text/html": [
       "<div>\n",
       "<style scoped>\n",
       "    .dataframe tbody tr th:only-of-type {\n",
       "        vertical-align: middle;\n",
       "    }\n",
       "\n",
       "    .dataframe tbody tr th {\n",
       "        vertical-align: top;\n",
       "    }\n",
       "\n",
       "    .dataframe thead th {\n",
       "        text-align: right;\n",
       "    }\n",
       "</style>\n",
       "<table border=\"1\" class=\"dataframe\">\n",
       "  <thead>\n",
       "    <tr style=\"text-align: right;\">\n",
       "      <th></th>\n",
       "      <th>subreddit</th>\n",
       "      <th>selftext</th>\n",
       "    </tr>\n",
       "  </thead>\n",
       "  <tbody>\n",
       "    <tr>\n",
       "      <th>0</th>\n",
       "      <td>subreddit</td>\n",
       "      <td>selftext</td>\n",
       "    </tr>\n",
       "    <tr>\n",
       "      <th>1</th>\n",
       "      <td>personalfinance</td>\n",
       "      <td>I have a handful of various collections, and n...</td>\n",
       "    </tr>\n",
       "    <tr>\n",
       "      <th>2</th>\n",
       "      <td>personalfinance</td>\n",
       "      <td>By all in one, I mean a bank that offers a dec...</td>\n",
       "    </tr>\n",
       "    <tr>\n",
       "      <th>3</th>\n",
       "      <td>personalfinance</td>\n",
       "      <td>My goal this year was to open a Roth IRA, I've...</td>\n",
       "    </tr>\n",
       "    <tr>\n",
       "      <th>4</th>\n",
       "      <td>personalfinance</td>\n",
       "      <td>I keep seeing great rates on CDs but should I ...</td>\n",
       "    </tr>\n",
       "  </tbody>\n",
       "</table>\n",
       "</div>"
      ],
      "text/plain": [
       "         subreddit                                           selftext\n",
       "0        subreddit                                           selftext\n",
       "1  personalfinance  I have a handful of various collections, and n...\n",
       "2  personalfinance  By all in one, I mean a bank that offers a dec...\n",
       "3  personalfinance  My goal this year was to open a Roth IRA, I've...\n",
       "4  personalfinance  I keep seeing great rates on CDs but should I ..."
      ]
     },
     "execution_count": 276,
     "metadata": {},
     "output_type": "execute_result"
    }
   ],
   "source": [
    "df = pd.read_csv('merged_df.csv', names=['subreddit', 'selftext'])\n",
    "df.head()"
   ]
  },
  {
   "cell_type": "code",
   "execution_count": 277,
   "id": "cc43fa5a",
   "metadata": {},
   "outputs": [],
   "source": [
    "df = df.drop(df.index[0])"
   ]
  },
  {
   "cell_type": "code",
   "execution_count": 278,
   "id": "958d0376",
   "metadata": {},
   "outputs": [
    {
     "data": {
      "text/plain": [
       "subreddit    0\n",
       "selftext     0\n",
       "dtype: int64"
      ]
     },
     "execution_count": 278,
     "metadata": {},
     "output_type": "execute_result"
    }
   ],
   "source": [
    "df.isnull().sum()"
   ]
  },
  {
   "cell_type": "code",
   "execution_count": 279,
   "id": "6b936a32",
   "metadata": {},
   "outputs": [
    {
     "data": {
      "text/html": [
       "<div>\n",
       "<style scoped>\n",
       "    .dataframe tbody tr th:only-of-type {\n",
       "        vertical-align: middle;\n",
       "    }\n",
       "\n",
       "    .dataframe tbody tr th {\n",
       "        vertical-align: top;\n",
       "    }\n",
       "\n",
       "    .dataframe thead th {\n",
       "        text-align: right;\n",
       "    }\n",
       "</style>\n",
       "<table border=\"1\" class=\"dataframe\">\n",
       "  <thead>\n",
       "    <tr style=\"text-align: right;\">\n",
       "      <th></th>\n",
       "      <th>subreddit</th>\n",
       "      <th>selftext</th>\n",
       "    </tr>\n",
       "  </thead>\n",
       "  <tbody>\n",
       "    <tr>\n",
       "      <th>1</th>\n",
       "      <td>personalfinance</td>\n",
       "      <td>I have a handful of various collections, and n...</td>\n",
       "    </tr>\n",
       "    <tr>\n",
       "      <th>2</th>\n",
       "      <td>personalfinance</td>\n",
       "      <td>By all in one, I mean a bank that offers a dec...</td>\n",
       "    </tr>\n",
       "    <tr>\n",
       "      <th>3</th>\n",
       "      <td>personalfinance</td>\n",
       "      <td>My goal this year was to open a Roth IRA, I've...</td>\n",
       "    </tr>\n",
       "    <tr>\n",
       "      <th>4</th>\n",
       "      <td>personalfinance</td>\n",
       "      <td>I keep seeing great rates on CDs but should I ...</td>\n",
       "    </tr>\n",
       "    <tr>\n",
       "      <th>5</th>\n",
       "      <td>personalfinance</td>\n",
       "      <td>So I'm stressing out because they closed the a...</td>\n",
       "    </tr>\n",
       "  </tbody>\n",
       "</table>\n",
       "</div>"
      ],
      "text/plain": [
       "         subreddit                                           selftext\n",
       "1  personalfinance  I have a handful of various collections, and n...\n",
       "2  personalfinance  By all in one, I mean a bank that offers a dec...\n",
       "3  personalfinance  My goal this year was to open a Roth IRA, I've...\n",
       "4  personalfinance  I keep seeing great rates on CDs but should I ...\n",
       "5  personalfinance  So I'm stressing out because they closed the a..."
      ]
     },
     "execution_count": 279,
     "metadata": {},
     "output_type": "execute_result"
    }
   ],
   "source": [
    "df.head()"
   ]
  },
  {
   "cell_type": "markdown",
   "id": "1d6ff154",
   "metadata": {},
   "source": [
    "## 3. Pre-Processing & Modelling <a class=\"anchor\" id=\"Chapter3\"></a>"
   ]
  },
  {
   "cell_type": "code",
   "execution_count": 280,
   "id": "a8b1107e",
   "metadata": {},
   "outputs": [],
   "source": [
    "cvec = CountVectorizer(stop_words='english')\n",
    "tfidf = TfidfVectorizer(stop_words='english')"
   ]
  },
  {
   "cell_type": "code",
   "execution_count": 281,
   "id": "fc410302",
   "metadata": {
    "scrolled": false
   },
   "outputs": [
    {
     "data": {
      "image/png": "[encoded data removed]",
      "text/plain": [
       "<Figure size 2200x1600 with 2 Axes>"
      ]
     },
     "metadata": {},
     "output_type": "display_data"
    }
   ],
   "source": [
    "# Explore CountVectorizer token counts in /r/personalfinance\n",
    "words_cvec_pf = pd.DataFrame(cvec.fit_transform(df[df.subreddit=='personalfinance'].selftext).todense(),\n",
    "                       columns=cvec.get_feature_names_out())\n",
    "word_counts_cvec_pf = words_cvec_pf.sum(axis=0)\n",
    "\n",
    "# Explore TfidfVectorizer token counts in /r/personalfinance\n",
    "words_tfidf_pf = pd.DataFrame(tfidf.fit_transform(df[df.subreddit=='personalfinance'].selftext).todense(),\n",
    "                       columns=tfidf.get_feature_names_out())\n",
    "word_counts_tfidf_pf = words_tfidf_pf.sum(axis=0)\n",
    "\n",
    "# Plot top 15 words\n",
    "plt.figure(figsize=(22,16), facecolor='white')\n",
    "\n",
    "plt.subplot(2,2,1)\n",
    "word_counts_cvec_pf.sort_values().tail(15).plot(kind='barh')\n",
    "plt.title('Top 15 Words in /r/personalfinance')\n",
    "plt.xlabel('Count')\n",
    "plt.ylabel('Word')\n",
    "\n",
    "plt.subplot(2,2,2)\n",
    "word_counts_tfidf_pf.sort_values().tail(15).plot(kind='barh')\n",
    "plt.title('Top 15 TFIDF Words in /r/personalfinance')\n",
    "plt.xlabel('TFIDF Value')\n",
    "plt.ylabel('Word')\n",
    "\n",
    "plt.tight_layout()"
   ]
  },
  {
   "cell_type": "code",
   "execution_count": 48,
   "id": "e9c51c85",
   "metadata": {},
   "outputs": [
    {
     "data": {
      "image/png": "[encoded data removed]",
      "text/plain": [
       "<Figure size 2200x1600 with 2 Axes>"
      ]
     },
     "metadata": {},
     "output_type": "display_data"
    }
   ],
   "source": [
    "# Explore CountVectorizer token counts in /r/legaladvice\n",
    "words_cvec_la = pd.DataFrame(cvec.fit_transform(df[df.subreddit=='legaladvice'].selftext).todense(),\n",
    "                       columns=cvec.get_feature_names_out())\n",
    "word_counts_cvec_la = words_cvec_la.sum(axis=0)\n",
    "\n",
    "# Explore TfidfVectorizer token counts in /r/legaladvice\n",
    "words_tfidf_la = pd.DataFrame(tfidf.fit_transform(df[df.subreddit=='legaladvice'].selftext).todense(),\n",
    "                       columns=tfidf.get_feature_names_out())\n",
    "word_counts_tfidf_la = words_tfidf_la.sum(axis=0)\n",
    "\n",
    "# Plot top 15 words\n",
    "plt.figure(figsize=(22,16), facecolor='white')\n",
    "\n",
    "plt.subplot(2,2,1)\n",
    "word_counts_cvec_la.sort_values().tail(15).plot(kind='barh')\n",
    "plt.title('Top 15 Words in /r/legaladvice')\n",
    "plt.xlabel('Count')\n",
    "plt.ylabel('Word')\n",
    "\n",
    "plt.subplot(2,2,2)\n",
    "word_counts_tfidf_la.sort_values().tail(15).plot(kind='barh')\n",
    "plt.title('Top 15 TFIDF Words in /r/legaladvice')\n",
    "plt.xlabel('TFIDF Value')\n",
    "plt.ylabel('Word')\n",
    "\n",
    "plt.tight_layout()"
   ]
  },
  {
   "cell_type": "code",
   "execution_count": null,
   "id": "5d09ff16",
   "metadata": {},
   "outputs": [],
   "source": [
    "# Explain which words are the most commonly used"
   ]
  },
  {
   "cell_type": "code",
   "execution_count": 49,
   "id": "1f445edd",
   "metadata": {},
   "outputs": [],
   "source": [
    "df['subreddit'] = df['subreddit'].map({'personalfinance': 0, 'legaladvice':1})"
   ]
  },
  {
   "cell_type": "code",
   "execution_count": 50,
   "id": "705d4fd5",
   "metadata": {},
   "outputs": [
    {
     "data": {
      "text/html": [
       "<div>\n",
       "<style scoped>\n",
       "    .dataframe tbody tr th:only-of-type {\n",
       "        vertical-align: middle;\n",
       "    }\n",
       "\n",
       "    .dataframe tbody tr th {\n",
       "        vertical-align: top;\n",
       "    }\n",
       "\n",
       "    .dataframe thead th {\n",
       "        text-align: right;\n",
       "    }\n",
       "</style>\n",
       "<table border=\"1\" class=\"dataframe\">\n",
       "  <thead>\n",
       "    <tr style=\"text-align: right;\">\n",
       "      <th></th>\n",
       "      <th>subreddit</th>\n",
       "      <th>selftext</th>\n",
       "    </tr>\n",
       "  </thead>\n",
       "  <tbody>\n",
       "    <tr>\n",
       "      <th>11923</th>\n",
       "      <td>1</td>\n",
       "      <td>So my sister (now 31) got married to her husba...</td>\n",
       "    </tr>\n",
       "    <tr>\n",
       "      <th>11924</th>\n",
       "      <td>1</td>\n",
       "      <td>Not sure if this is the right place since I'm ...</td>\n",
       "    </tr>\n",
       "    <tr>\n",
       "      <th>11925</th>\n",
       "      <td>1</td>\n",
       "      <td>My wife has cancer and the doctor told her to ...</td>\n",
       "    </tr>\n",
       "    <tr>\n",
       "      <th>11926</th>\n",
       "      <td>1</td>\n",
       "      <td>My Landlord's been pretty horrible throughout ...</td>\n",
       "    </tr>\n",
       "    <tr>\n",
       "      <th>11927</th>\n",
       "      <td>1</td>\n",
       "      <td>Apologies if text is messed up, I’m using mobi...</td>\n",
       "    </tr>\n",
       "  </tbody>\n",
       "</table>\n",
       "</div>"
      ],
      "text/plain": [
       "       subreddit                                           selftext\n",
       "11923          1  So my sister (now 31) got married to her husba...\n",
       "11924          1  Not sure if this is the right place since I'm ...\n",
       "11925          1  My wife has cancer and the doctor told her to ...\n",
       "11926          1  My Landlord's been pretty horrible throughout ...\n",
       "11927          1  Apologies if text is messed up, I’m using mobi..."
      ]
     },
     "execution_count": 50,
     "metadata": {},
     "output_type": "execute_result"
    }
   ],
   "source": [
    "df.tail()"
   ]
  },
  {
   "cell_type": "code",
   "execution_count": 131,
   "id": "57a77cbc",
   "metadata": {},
   "outputs": [],
   "source": [
    "X = df['selftext']\n",
    "y = df['subreddit']"
   ]
  },
  {
   "cell_type": "code",
   "execution_count": 132,
   "id": "eb1c2ba1",
   "metadata": {},
   "outputs": [],
   "source": [
    "# Split the data into the training and testing sets.\n",
    "X_train, X_test, y_train, y_test = train_test_split(X,\n",
    "                                                    y,\n",
    "                                                    test_size=0.33,\n",
    "                                                    stratify=y,\n",
    "                                                    random_state=42)"
   ]
  },
  {
   "cell_type": "code",
   "execution_count": 133,
   "id": "470f0322",
   "metadata": {},
   "outputs": [
    {
     "data": {
      "text/plain": [
       "1    0.500042\n",
       "0    0.499958\n",
       "Name: subreddit, dtype: float64"
      ]
     },
     "execution_count": 133,
     "metadata": {},
     "output_type": "execute_result"
    }
   ],
   "source": [
    "y.value_counts(normalize = True)"
   ]
  },
  {
   "cell_type": "code",
   "execution_count": 134,
   "id": "fa1557a3",
   "metadata": {},
   "outputs": [
    {
     "data": {
      "text/plain": [
       "0    0.5\n",
       "1    0.5\n",
       "Name: subreddit, dtype: float64"
      ]
     },
     "execution_count": 134,
     "metadata": {},
     "output_type": "execute_result"
    }
   ],
   "source": [
    "y_test.value_counts(normalize=True)"
   ]
  },
  {
   "cell_type": "code",
   "execution_count": 308,
   "id": "e33e89d2",
   "metadata": {},
   "outputs": [],
   "source": [
    "# Random Forest Classifier\n",
    "\n",
    "rf_pipe = Pipeline([\n",
    "    ('cvec', CountVectorizer()),\n",
    "    ('rf', RandomForestClassifier())\n",
    "])"
   ]
  },
  {
   "cell_type": "code",
   "execution_count": 309,
   "id": "7a4c4edd",
   "metadata": {},
   "outputs": [
    {
     "data": {
      "text/plain": [
       "0.8951322048119875"
      ]
     },
     "execution_count": 309,
     "metadata": {},
     "output_type": "execute_result"
    }
   ],
   "source": [
    "cross_val_score(rf_pipe, X_train, y_train, cv=5).mean()"
   ]
  },
  {
   "cell_type": "code",
   "execution_count": 310,
   "id": "9654ff79",
   "metadata": {},
   "outputs": [
    {
     "data": {
      "text/plain": [
       "Pipeline(steps=[('cvec', CountVectorizer()), ('rf', RandomForestClassifier())])"
      ]
     },
     "execution_count": 310,
     "metadata": {},
     "output_type": "execute_result"
    }
   ],
   "source": [
    "rf_pipe.fit(X_train, y_train)"
   ]
  },
  {
   "cell_type": "code",
   "execution_count": 311,
   "id": "25ae4f0b",
   "metadata": {},
   "outputs": [
    {
     "name": "stdout",
     "output_type": "stream",
     "text": [
      "Random Forest Classifier\n",
      "Train score: 0.9988737329495683\n",
      "Test score: 0.8983739837398373\n"
     ]
    }
   ],
   "source": [
    "print('Random Forest Classifier')\n",
    "print('Train score:', rf_pipe.score(X_train, y_train))\n",
    "print('Test score:', rf_pipe.score(X_test, y_test))"
   ]
  },
  {
   "cell_type": "markdown",
   "id": "e3a565c1",
   "metadata": {},
   "source": [
    "______________________________________________"
   ]
  },
  {
   "cell_type": "code",
   "execution_count": 171,
   "id": "573e057f",
   "metadata": {},
   "outputs": [],
   "source": [
    "# Multinomial Naive Bayes Classifier\n",
    "\n",
    "mnb_pipe = Pipeline([\n",
    "  ('cvec', CountVectorizer()),\n",
    "    ('nb', MultinomialNB()),\n",
    "])"
   ]
  },
  {
   "cell_type": "code",
   "execution_count": 172,
   "id": "7ebfeb0f",
   "metadata": {},
   "outputs": [
    {
     "data": {
      "text/plain": [
       "0.9156551223738868"
      ]
     },
     "execution_count": 172,
     "metadata": {},
     "output_type": "execute_result"
    }
   ],
   "source": [
    "cross_val_score(mnb_pipe, X_train, y_train, cv=5).mean()"
   ]
  },
  {
   "cell_type": "code",
   "execution_count": 173,
   "id": "a35f2caa",
   "metadata": {},
   "outputs": [
    {
     "data": {
      "text/plain": [
       "Pipeline(steps=[('cvec', CountVectorizer()), ('nb', MultinomialNB())])"
      ]
     },
     "execution_count": 173,
     "metadata": {},
     "output_type": "execute_result"
    }
   ],
   "source": [
    "mnb_pipe.fit(X_train, y_train)"
   ]
  },
  {
   "cell_type": "code",
   "execution_count": 174,
   "id": "6b8d1c37",
   "metadata": {},
   "outputs": [
    {
     "name": "stdout",
     "output_type": "stream",
     "text": [
      "Multinomial naive Bayes classifier\n",
      "Train score: 0.934926792641722\n",
      "Test score: 0.9192073170731707\n"
     ]
    }
   ],
   "source": [
    "print('Multinomial naive Bayes classifier')\n",
    "print('Train score:', mnb_pipe.score(X_train, y_train))\n",
    "print('Test score:', mnb_pipe.score(X_test, y_test))"
   ]
  },
  {
   "cell_type": "markdown",
   "id": "f1c21d51",
   "metadata": {},
   "source": [
    "________________________________"
   ]
  },
  {
   "cell_type": "code",
   "execution_count": 175,
   "id": "63008daf",
   "metadata": {},
   "outputs": [],
   "source": [
    "# Logistic Regression Model\n",
    "\n",
    "lr_pipe = Pipeline([\n",
    "    ('cvec', CountVectorizer()),\n",
    "    ('lr', LogisticRegression()),\n",
    "])"
   ]
  },
  {
   "cell_type": "code",
   "execution_count": 176,
   "id": "22b870bd",
   "metadata": {},
   "outputs": [
    {
     "name": "stderr",
     "output_type": "stream",
     "text": [
      "C:\\Users\\nurha\\Anaconda3\\lib\\site-packages\\sklearn\\linear_model\\_logistic.py:814: ConvergenceWarning: lbfgs failed to converge (status=1):\n",
      "STOP: TOTAL NO. of ITERATIONS REACHED LIMIT.\n",
      "\n",
      "Increase the number of iterations (max_iter) or scale the data as shown in:\n",
      "    https://scikit-learn.org/stable/modules/preprocessing.html\n",
      "Please also refer to the documentation for alternative solver options:\n",
      "    https://scikit-learn.org/stable/modules/linear_model.html#logistic-regression\n",
      "  n_iter_i = _check_optimize_result(\n",
      "C:\\Users\\nurha\\Anaconda3\\lib\\site-packages\\sklearn\\linear_model\\_logistic.py:814: ConvergenceWarning: lbfgs failed to converge (status=1):\n",
      "STOP: TOTAL NO. of ITERATIONS REACHED LIMIT.\n",
      "\n",
      "Increase the number of iterations (max_iter) or scale the data as shown in:\n",
      "    https://scikit-learn.org/stable/modules/preprocessing.html\n",
      "Please also refer to the documentation for alternative solver options:\n",
      "    https://scikit-learn.org/stable/modules/linear_model.html#logistic-regression\n",
      "  n_iter_i = _check_optimize_result(\n",
      "C:\\Users\\nurha\\Anaconda3\\lib\\site-packages\\sklearn\\linear_model\\_logistic.py:814: ConvergenceWarning: lbfgs failed to converge (status=1):\n",
      "STOP: TOTAL NO. of ITERATIONS REACHED LIMIT.\n",
      "\n",
      "Increase the number of iterations (max_iter) or scale the data as shown in:\n",
      "    https://scikit-learn.org/stable/modules/preprocessing.html\n",
      "Please also refer to the documentation for alternative solver options:\n",
      "    https://scikit-learn.org/stable/modules/linear_model.html#logistic-regression\n",
      "  n_iter_i = _check_optimize_result(\n",
      "C:\\Users\\nurha\\Anaconda3\\lib\\site-packages\\sklearn\\linear_model\\_logistic.py:814: ConvergenceWarning: lbfgs failed to converge (status=1):\n",
      "STOP: TOTAL NO. of ITERATIONS REACHED LIMIT.\n",
      "\n",
      "Increase the number of iterations (max_iter) or scale the data as shown in:\n",
      "    https://scikit-learn.org/stable/modules/preprocessing.html\n",
      "Please also refer to the documentation for alternative solver options:\n",
      "    https://scikit-learn.org/stable/modules/linear_model.html#logistic-regression\n",
      "  n_iter_i = _check_optimize_result(\n",
      "C:\\Users\\nurha\\Anaconda3\\lib\\site-packages\\sklearn\\linear_model\\_logistic.py:814: ConvergenceWarning: lbfgs failed to converge (status=1):\n",
      "STOP: TOTAL NO. of ITERATIONS REACHED LIMIT.\n",
      "\n",
      "Increase the number of iterations (max_iter) or scale the data as shown in:\n",
      "    https://scikit-learn.org/stable/modules/preprocessing.html\n",
      "Please also refer to the documentation for alternative solver options:\n",
      "    https://scikit-learn.org/stable/modules/linear_model.html#logistic-regression\n",
      "  n_iter_i = _check_optimize_result(\n"
     ]
    },
    {
     "data": {
      "text/plain": [
       "0.9052699551737984"
      ]
     },
     "execution_count": 176,
     "metadata": {},
     "output_type": "execute_result"
    }
   ],
   "source": [
    "cross_val_score(lr_pipe, X_train, y_train, cv=5).mean()"
   ]
  },
  {
   "cell_type": "code",
   "execution_count": 177,
   "id": "7f29fc32",
   "metadata": {},
   "outputs": [
    {
     "name": "stderr",
     "output_type": "stream",
     "text": [
      "C:\\Users\\nurha\\Anaconda3\\lib\\site-packages\\sklearn\\linear_model\\_logistic.py:814: ConvergenceWarning: lbfgs failed to converge (status=1):\n",
      "STOP: TOTAL NO. of ITERATIONS REACHED LIMIT.\n",
      "\n",
      "Increase the number of iterations (max_iter) or scale the data as shown in:\n",
      "    https://scikit-learn.org/stable/modules/preprocessing.html\n",
      "Please also refer to the documentation for alternative solver options:\n",
      "    https://scikit-learn.org/stable/modules/linear_model.html#logistic-regression\n",
      "  n_iter_i = _check_optimize_result(\n"
     ]
    },
    {
     "data": {
      "text/plain": [
       "Pipeline(steps=[('cvec', CountVectorizer()), ('lr', LogisticRegression())])"
      ]
     },
     "execution_count": 177,
     "metadata": {},
     "output_type": "execute_result"
    }
   ],
   "source": [
    "lr_pipe.fit(X_train, y_train)"
   ]
  },
  {
   "cell_type": "code",
   "execution_count": 178,
   "id": "3c25e1d1",
   "metadata": {},
   "outputs": [
    {
     "name": "stdout",
     "output_type": "stream",
     "text": [
      "Logistic Regression Model\n",
      "Train score: 0.99712176198223\n",
      "Test score: 0.9103150406504065\n"
     ]
    }
   ],
   "source": [
    "print('Logistic Regression Model')\n",
    "print('Train score:', lr_pipe.score(X_train, y_train))\n",
    "print('Test score:', lr_pipe.score(X_test, y_test))"
   ]
  },
  {
   "cell_type": "markdown",
   "id": "c94dabb7",
   "metadata": {},
   "source": [
    "Model | Train Score | Test Score\n",
    "--- |--- | ---\n",
    "Random Forest | 0.998 | 0.898\n",
    "MultiNomial Naive Bayes | 0.934 | 0.919\n",
    "Logistic Regression Model | 0.997 | 0.910\n",
    "\n",
    "\n"
   ]
  },
  {
   "cell_type": "markdown",
   "id": "56df97f2",
   "metadata": {},
   "source": [
    "<b>Which performed better?</b> \n",
    "- The Multinomial naive Bayes classifier performed slightly better than the Logistic Regression Model and Random Forest therefore it is chosen to be the baseline."
   ]
  },
  {
   "cell_type": "code",
   "execution_count": 239,
   "id": "bda5c466",
   "metadata": {},
   "outputs": [],
   "source": [
    "# Choose which classifier is better to be the baseline to explore its parameters\n",
    "pipe_cv = Pipeline([\n",
    "    ('cv', CountVectorizer()),\n",
    "    ('nb', MultinomialNB()),\n",
    "])\n",
    "\n",
    "\n",
    "params_grid_cv = {\n",
    "    'cv__stop_words' : [None, 'english'],\n",
    "    'cv__ngram_range' : [(1,1), (1,2)],\n",
    "    'cv__max_df' : [1.0, 0.95],\n",
    "    'cv__min_df' : [1, 2],\n",
    "    'cv__max_features' : [2000, 2250, 2500]\n",
    "}"
   ]
  },
  {
   "cell_type": "code",
   "execution_count": 240,
   "id": "423d395b",
   "metadata": {},
   "outputs": [],
   "source": [
    "gs = GridSearchCV(pipe_cv, param_grid=params_grid_cv, verbose=1)"
   ]
  },
  {
   "cell_type": "code",
   "execution_count": 241,
   "id": "a1a8a650",
   "metadata": {},
   "outputs": [
    {
     "name": "stdout",
     "output_type": "stream",
     "text": [
      "Fitting 5 folds for each of 12 candidates, totalling 60 fits\n"
     ]
    },
    {
     "data": {
      "text/plain": [
       "GridSearchCV(estimator=Pipeline(steps=[('cv', CountVectorizer()),\n",
       "                                       ('nb', MultinomialNB())]),\n",
       "             param_grid={'cv__max_features': [2000, 2250, 2500],\n",
       "                         'cv__ngram_range': [(1, 1), (1, 2)],\n",
       "                         'cv__stop_words': [None, 'english']},\n",
       "             verbose=1)"
      ]
     },
     "execution_count": 241,
     "metadata": {},
     "output_type": "execute_result"
    }
   ],
   "source": [
    "gs.fit(X_train, y_train)"
   ]
  },
  {
   "cell_type": "code",
   "execution_count": 298,
   "id": "3454b0fa",
   "metadata": {},
   "outputs": [
    {
     "name": "stdout",
     "output_type": "stream",
     "text": [
      "Train score: 0.916030534351145\n",
      "Test score: 0.9141260162601627\n"
     ]
    }
   ],
   "source": [
    "print('Train score:', gs.score(X_train, y_train))\n",
    "print('Test score:', gs.score(X_test, y_test))"
   ]
  },
  {
   "cell_type": "code",
   "execution_count": 291,
   "id": "3aa2c547",
   "metadata": {},
   "outputs": [
    {
     "name": "stdout",
     "output_type": "stream",
     "text": [
      "Specificity: 0.8821138211382114\n"
     ]
    }
   ],
   "source": [
    "gs_pred = gs.predict(X_test)\n",
    "\n",
    "tn, fp, fn, tp = confusion_matrix(y_test, gs_pred).ravel()\n",
    "\n",
    "spec = tn / (tn + fp)\n",
    "\n",
    "print('Specificity:', spec)"
   ]
  },
  {
   "cell_type": "code",
   "execution_count": 213,
   "id": "af039445",
   "metadata": {},
   "outputs": [
    {
     "data": {
      "image/png": "[encoded data removed]",
      "text/plain": [
       "<Figure size 640x480 with 2 Axes>"
      ]
     },
     "metadata": {},
     "output_type": "display_data"
    }
   ],
   "source": [
    "plot_confusion_matrix(gs, X_test, y_test, cmap='Blues', values_format='d');"
   ]
  },
  {
   "cell_type": "code",
   "execution_count": 247,
   "id": "096e2e3a",
   "metadata": {},
   "outputs": [],
   "source": [
    "pipe_tfidf = Pipeline([\n",
    "    ('tfidf', TfidfVectorizer()),\n",
    "    ('nb', MultinomialNB())\n",
    "])"
   ]
  },
  {
   "cell_type": "code",
   "execution_count": 248,
   "id": "998903e1",
   "metadata": {},
   "outputs": [],
   "source": [
    "params_grid_tfidf = {\n",
    "    'tfidf__stop_words' : [None, 'english'],\n",
    "    'tfidf__ngram_range' : [(1,1), (1,2)],\n",
    "    'tfidf__max_features' : [2000, 2250, 2500]\n",
    "}"
   ]
  },
  {
   "cell_type": "code",
   "execution_count": 249,
   "id": "03e19173",
   "metadata": {},
   "outputs": [],
   "source": [
    "gs_tfidf = GridSearchCV(pipe_tfidf, \n",
    "                       param_grid=params_grid_tfidf, \n",
    "                       verbose=1)"
   ]
  },
  {
   "cell_type": "code",
   "execution_count": 250,
   "id": "8a416937",
   "metadata": {},
   "outputs": [
    {
     "name": "stdout",
     "output_type": "stream",
     "text": [
      "Fitting 5 folds for each of 12 candidates, totalling 60 fits\n"
     ]
    },
    {
     "data": {
      "text/plain": [
       "GridSearchCV(estimator=Pipeline(steps=[('tfidf', TfidfVectorizer()),\n",
       "                                       ('nb', MultinomialNB())]),\n",
       "             param_grid={'tfidf__max_features': [2000, 2250, 2500],\n",
       "                         'tfidf__ngram_range': [(1, 1), (1, 2)],\n",
       "                         'tfidf__stop_words': [None, 'english']},\n",
       "             verbose=1)"
      ]
     },
     "execution_count": 250,
     "metadata": {},
     "output_type": "execute_result"
    }
   ],
   "source": [
    "gs_tfidf.fit(X_train, y_train)"
   ]
  },
  {
   "cell_type": "code",
   "execution_count": 297,
   "id": "11fcec67",
   "metadata": {},
   "outputs": [
    {
     "name": "stdout",
     "output_type": "stream",
     "text": [
      "Train score: 0.9197847578525842\n",
      "Test score: 0.9153963414634146\n"
     ]
    }
   ],
   "source": [
    "print('Train score:', gs_tfidf.score(X_train, y_train))\n",
    "print('Test score:', gs_tfidf.score(X_test, y_test))"
   ]
  },
  {
   "cell_type": "code",
   "execution_count": 290,
   "id": "e92520b8",
   "metadata": {},
   "outputs": [
    {
     "name": "stdout",
     "output_type": "stream",
     "text": [
      "Specificity: 0.8861788617886179\n"
     ]
    }
   ],
   "source": [
    "gs_pred = gs_tfidf.predict(X_test)\n",
    "\n",
    "tn, fp, fn, tp = confusion_matrix(y_test, gs_pred).ravel()\n",
    "\n",
    "spec = tn / (tn + fp)\n",
    "\n",
    "print('Specificity:', spec)"
   ]
  },
  {
   "cell_type": "code",
   "execution_count": 293,
   "id": "f44b36f0",
   "metadata": {},
   "outputs": [
    {
     "name": "stderr",
     "output_type": "stream",
     "text": [
      "C:\\Users\\nurha\\Anaconda3\\lib\\site-packages\\sklearn\\utils\\deprecation.py:87: FutureWarning: Function plot_confusion_matrix is deprecated; Function `plot_confusion_matrix` is deprecated in 1.0 and will be removed in 1.2. Use one of the class methods: ConfusionMatrixDisplay.from_predictions or ConfusionMatrixDisplay.from_estimator.\n",
      "  warnings.warn(msg, category=FutureWarning)\n"
     ]
    },
    {
     "data": {
      "image/png": "[encoded data removed]",
      "text/plain": [
       "<Figure size 640x480 with 2 Axes>"
      ]
     },
     "metadata": {},
     "output_type": "display_data"
    }
   ],
   "source": [
    "plot_confusion_matrix(gs_tfidf, X_test, y_test, cmap='Blues', values_format='d');"
   ]
  },
  {
   "cell_type": "markdown",
   "id": "3d50dc18",
   "metadata": {},
   "source": [
    "## 4. Evaluation <a class=\"anchor\" id=\"Chapter4\"></a>"
   ]
  },
  {
   "cell_type": "code",
   "execution_count": 292,
   "id": "1751dfe4",
   "metadata": {},
   "outputs": [
    {
     "data": {
      "text/html": [
       "<div>\n",
       "<style scoped>\n",
       "    .dataframe tbody tr th:only-of-type {\n",
       "        vertical-align: middle;\n",
       "    }\n",
       "\n",
       "    .dataframe tbody tr th {\n",
       "        vertical-align: top;\n",
       "    }\n",
       "\n",
       "    .dataframe thead th {\n",
       "        text-align: right;\n",
       "    }\n",
       "</style>\n",
       "<table border=\"1\" class=\"dataframe\">\n",
       "  <thead>\n",
       "    <tr style=\"text-align: right;\">\n",
       "      <th></th>\n",
       "      <th>predict r/personalfinance</th>\n",
       "      <th>predict r/legaladvice</th>\n",
       "    </tr>\n",
       "  </thead>\n",
       "  <tbody>\n",
       "    <tr>\n",
       "      <th>actual r/personalfinance</th>\n",
       "      <td>1750</td>\n",
       "      <td>218</td>\n",
       "    </tr>\n",
       "    <tr>\n",
       "      <th>actual r/legaladvice</th>\n",
       "      <td>100</td>\n",
       "      <td>1868</td>\n",
       "    </tr>\n",
       "  </tbody>\n",
       "</table>\n",
       "</div>"
      ],
      "text/plain": [
       "                          predict r/personalfinance  predict r/legaladvice\n",
       "actual r/personalfinance                       1750                    218\n",
       "actual r/legaladvice                            100                   1868"
      ]
     },
     "execution_count": 292,
     "metadata": {},
     "output_type": "execute_result"
    }
   ],
   "source": [
    "y_pred = mnb_pipe.predict(X_test)\n",
    "\n",
    "pd.DataFrame(confusion_matrix(y_test, y_pred),\n",
    "            columns=['predict r/personalfinance', 'predict r/legaladvice'],\n",
    "            index=['actual r/personalfinance', 'actual r/legaladvice'])"
   ]
  },
  {
   "cell_type": "code",
   "execution_count": 294,
   "id": "b4054a0a",
   "metadata": {},
   "outputs": [
    {
     "name": "stdout",
     "output_type": "stream",
     "text": [
      "Accuracy: 0.9192\n",
      "Misclassification rate: 0.0808\n",
      "Precision: 0.8955\n",
      "Recall: 0.9492\n",
      "Specificity: 0.8892\n"
     ]
    }
   ],
   "source": [
    "tn, fp, fn, tp = confusion_matrix(y_test, y_pred).ravel()\n",
    "print('Accuracy: {}'.format(round((tp+tn)/(tp+fp+tn+fn),4)))\n",
    "print('Misclassification rate: {}'.format(round((fp+fn)/(tp+fp+tn+fn),4)))\n",
    "print('Precision: {}'.format(round(tp/(tp+fp),4)))\n",
    "print('Recall: {}'.format(round(tp/(tp+fn),4)))\n",
    "print('Specificity: {}'.format(round(tn/(tn+fp),4)))"
   ]
  },
  {
   "cell_type": "markdown",
   "id": "31000bcf",
   "metadata": {},
   "source": [
    "- The model correctly predicts 91.9% of observations.\n",
    "- r/legaladvice, we have 89.5% of them correctly classified.\n",
    "- r/legaladvice, the model has 94.9% of them correctly classified.\n",
    "- r/personalfinance, the model has 88.9% of them correctly classified.\n",
    "\n",
    "\n",
    "Error analysis:\n",
    "\n",
    "Since the focus is on creating articles for their new venture into legal matters. It is more tolerable to predict personal finance wrongly as compared to legal advice. Therefore type II error here is more dangerous than Type 1 Error."
   ]
  },
  {
   "cell_type": "markdown",
   "id": "07d6603c",
   "metadata": {},
   "source": [
    "## 5. Conclusion <a class=\"anchor\" id=\"Chapter5\"></a>"
   ]
  },
  {
   "cell_type": "markdown",
   "id": "2d035fce",
   "metadata": {},
   "source": [
    "- The Multinomial Naive Bayes classifier performed well with a test accuracy score of 91.9%.\n",
    "\n",
    "\n",
    "- Ways to improve future models:\n",
    "1. Collection of more data points for modelling.\n",
    "2. Tuning of hyperparameters will help with the accuracy of the train and test score.\n",
    "3. Optimize other ML models to see which is best."
   ]
  }
 ],
 "metadata": {
  "kernelspec": {
   "display_name": "Python 3 (ipykernel)",
   "language": "python",
   "name": "python3"
  },
  "language_info": {
   "codemirror_mode": {
    "name": "ipython",
    "version": 3
   },
   "file_extension": ".py",
   "mimetype": "text/x-python",
   "name": "python",
   "nbconvert_exporter": "python",
   "pygments_lexer": "ipython3",
   "version": "3.9.15"
  }
 },
 "nbformat": 4,
 "nbformat_minor": 5
}
